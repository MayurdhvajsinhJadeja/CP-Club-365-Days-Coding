{
 "cells": [
  {
   "cell_type": "markdown",
   "metadata": {},
   "source": [
    "## Pattern Programs"
   ]
  },
  {
   "cell_type": "code",
   "execution_count": 179,
   "metadata": {},
   "outputs": [
    {
     "name": "stdout",
     "output_type": "stream",
     "text": [
      "1\n",
      "2*2\n",
      "3*3*3\n",
      "4*4*4*4\n",
      "5*5*5*5*5\n",
      "6*6*6*6*6*6\n",
      "6*6*6*6*6*6\n",
      "5*5*5*5*5\n",
      "4*4*4*4\n",
      "3*3*3\n",
      "2*2\n",
      "1\n"
     ]
    }
   ],
   "source": [
    "n = int(input(\"Enter Input: \"))\n",
    "for i in range(0, n):\n",
    "    print(i+1, end=\"\")\n",
    "    for j in range(0, i):\n",
    "        print(\"*\", end=\"\")\n",
    "        print(i+1, end=\"\")\n",
    "    print(\"\\r\")\n",
    "for i in range(n,0,-1):\n",
    "    print(i, end=\"\")\n",
    "    for j in range(i,1,-1):\n",
    "        print(\"*\", end=\"\")\n",
    "        print(i, end=\"\")\n",
    "    print(\"\\r\")\n",
    "    "
   ]
  }
 ],
 "metadata": {
  "kernelspec": {
   "display_name": "Python 3.8.5 64-bit",
   "language": "python",
   "name": "python3"
  },
  "language_info": {
   "codemirror_mode": {
    "name": "ipython",
    "version": 3
   },
   "file_extension": ".py",
   "mimetype": "text/x-python",
   "name": "python",
   "nbconvert_exporter": "python",
   "pygments_lexer": "ipython3",
   "version": "3.8.5"
  },
  "orig_nbformat": 4,
  "vscode": {
   "interpreter": {
    "hash": "570feb405e2e27c949193ac68f46852414290d515b0ba6e5d90d076ed2284471"
   }
  }
 },
 "nbformat": 4,
 "nbformat_minor": 2
}
