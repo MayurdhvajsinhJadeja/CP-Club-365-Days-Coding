{
 "cells": [
  {
   "cell_type": "markdown",
   "metadata": {},
   "source": [
    "Input: 4\n",
    "\n",
    "Output:\n",
    "\n",
    "++++++1++++++\n",
    "\n",
    "+++++2+2+++++\n",
    "\n",
    "++++3+3+3++++\n",
    "\n",
    "+++4+4+4+4+++"
   ]
  },
  {
   "cell_type": "code",
   "execution_count": 109,
   "metadata": {},
   "outputs": [
    {
     "name": "stdout",
     "output_type": "stream",
     "text": [
      "****************1****************\n",
      "***************2*2***************\n",
      "**************3*3*3**************\n",
      "*************4*4*4*4*************\n",
      "************5*5*5*5*5************\n",
      "***********6*6*6*6*6*6***********\n",
      "**********7*7*7*7*7*7*7**********\n",
      "*********8*8*8*8*8*8*8*8*********\n",
      "********9*9*9*9*9*9*9*9*9********\n"
     ]
    }
   ],
   "source": [
    "n = int(input(\"Enter a Number: \"))\n",
    "x=(n*2)-2\n",
    "for i in range(0, n):\n",
    "    print(\"*\"*x, end='')\n",
    "    print(i+1, end='')\n",
    "    for j in range(i):\n",
    "        print('*', end='')\n",
    "        print(i+1, end='')\n",
    "    print('*'*x)\n",
    "    x-=1\n",
    "    "
   ]
  }
 ],
 "metadata": {
  "kernelspec": {
   "display_name": "Python 3.8.5 64-bit",
   "language": "python",
   "name": "python3"
  },
  "language_info": {
   "codemirror_mode": {
    "name": "ipython",
    "version": 3
   },
   "file_extension": ".py",
   "mimetype": "text/x-python",
   "name": "python",
   "nbconvert_exporter": "python",
   "pygments_lexer": "ipython3",
   "version": "3.8.5"
  },
  "orig_nbformat": 4,
  "vscode": {
   "interpreter": {
    "hash": "570feb405e2e27c949193ac68f46852414290d515b0ba6e5d90d076ed2284471"
   }
  }
 },
 "nbformat": 4,
 "nbformat_minor": 2
}
