{
 "cells": [
  {
   "cell_type": "markdown",
   "metadata": {},
   "source": [
    "Input:\n",
    "\n",
    "4\n",
    "\n",
    "4 2\n",
    "\n",
    "8 3\n",
    "\n",
    "3 4\n",
    "\n",
    "2 1\n",
    "\n",
    "Output:\n",
    "\n",
    "2\n",
    "\n",
    "4\n",
    "\n",
    "3\n",
    "\n",
    "2\n"
   ]
  },
  {
   "cell_type": "code",
   "execution_count": 20,
   "metadata": {},
   "outputs": [
    {
     "name": "stdout",
     "output_type": "stream",
     "text": [
      "2\n",
      "4\n",
      "3\n",
      "2\n"
     ]
    }
   ],
   "source": [
    "n=int(input())\n",
    "def stairs(dest,step):\n",
    "    ans=0\n",
    "    if(step<dest):\n",
    "        ans=dest//step\n",
    "        if((ans*step)==dest):\n",
    "            return ans\n",
    "        else:\n",
    "            return (dest-(ans*step))+ans\n",
    "    else:\n",
    "        return dest\n",
    "\n",
    "for i in range(n):\n",
    "    dest,step=map(int,input().split())\n",
    "    print(stairs(dest,step))"
   ]
  }
 ],
 "metadata": {
  "kernelspec": {
   "display_name": "Python 3.8.5 64-bit",
   "language": "python",
   "name": "python3"
  },
  "language_info": {
   "codemirror_mode": {
    "name": "ipython",
    "version": 3
   },
   "file_extension": ".py",
   "mimetype": "text/x-python",
   "name": "python",
   "nbconvert_exporter": "python",
   "pygments_lexer": "ipython3",
   "version": "3.8.5"
  },
  "orig_nbformat": 4,
  "vscode": {
   "interpreter": {
    "hash": "570feb405e2e27c949193ac68f46852414290d515b0ba6e5d90d076ed2284471"
   }
  }
 },
 "nbformat": 4,
 "nbformat_minor": 2
}
