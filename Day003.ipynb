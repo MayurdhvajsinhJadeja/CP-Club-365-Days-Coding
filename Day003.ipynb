{
 "cells": [
  {
   "cell_type": "code",
   "execution_count": 5,
   "metadata": {},
   "outputs": [
    {
     "name": "stdout",
     "output_type": "stream",
     "text": [
      "6\n"
     ]
    }
   ],
   "source": [
    "def longestPrefix(str):\n",
    "    if len(str) == 0:\n",
    "        return \"\"\n",
    "    current = str[0]\n",
    "    for i in range(1,len(str)):\n",
    "        temp = \"\"\n",
    "        if len(current) == 0:\n",
    "            break\n",
    "        for j in range(len(str[i])):\n",
    "            if((j<len(current)) and (current[j] == str[i][j])):\n",
    "                temp+=current[j]\n",
    "            else:\n",
    "               break\n",
    "        current = temp\n",
    "    return current\n",
    "input_list1=['NARUTO','UZUMAKI']\n",
    "input_list2 = ['UCHIHAITACHI','UCHIHAMADARA']\n",
    "print(len(longestPrefix(input_list1))+len(longestPrefix(input_list2)))"
   ]
  },
  {
   "cell_type": "code",
   "execution_count": 27,
   "metadata": {},
   "outputs": [
    {
     "name": "stdout",
     "output_type": "stream",
     "text": [
      "Enter/Paste your content. Ctrl-D or Ctrl-Z ( windows ) to save it.\n"
     ]
    }
   ],
   "source": [
    "print(\"Enter/Paste your content. Ctrl-D or Ctrl-Z ( windows ) to save it.\")\n",
    "contents = []\n",
    "while True:\n",
    "    try:\n",
    "        line = input()\n",
    "    except EOFError:\n",
    "        break\n",
    "    contents.append(line)"
   ]
  }
 ],
 "metadata": {
  "kernelspec": {
   "display_name": "Python 3.8.5 64-bit",
   "language": "python",
   "name": "python3"
  },
  "language_info": {
   "codemirror_mode": {
    "name": "ipython",
    "version": 3
   },
   "file_extension": ".py",
   "mimetype": "text/x-python",
   "name": "python",
   "nbconvert_exporter": "python",
   "pygments_lexer": "ipython3",
   "version": "3.8.5"
  },
  "orig_nbformat": 4,
  "vscode": {
   "interpreter": {
    "hash": "570feb405e2e27c949193ac68f46852414290d515b0ba6e5d90d076ed2284471"
   }
  }
 },
 "nbformat": 4,
 "nbformat_minor": 2
}
