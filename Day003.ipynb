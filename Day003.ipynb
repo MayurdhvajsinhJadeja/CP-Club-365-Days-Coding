{
 "cells": [
  {
   "cell_type": "code",
   "execution_count": 6,
   "metadata": {},
   "outputs": [
    {
     "name": "stdout",
     "output_type": "stream",
     "text": [
      "6\n"
     ]
    }
   ],
   "source": [
    "def longestPrefix(str):\n",
    "    if len(str) == 0:\n",
    "        return \"\"\n",
    "    current = str[0]\n",
    "    for i in range(1,len(str)):\n",
    "        new = \"\"\n",
    "        if len(current) == 0:\n",
    "            break\n",
    "        for j in range(len(str[i])):\n",
    "            if((j<len(current)) and (current[j] == str[i][j])):\n",
    "                new+=current[j]\n",
    "            else:\n",
    "               break\n",
    "        current = new\n",
    "    return current\n",
    "input_list1=['NARUTO','UZUMAKI']\n",
    "input_list2 = ['UCHIHAITACHI','UCHIHAMADARA']\n",
    "print(len(longestPrefix(input_list1))+len(longestPrefix(input_list2)))"
   ]
  },
  {
   "cell_type": "markdown",
   "metadata": {},
   "source": [
    "## FOR 1 TEST CASE ONLY"
   ]
  },
  {
   "cell_type": "code",
   "execution_count": 180,
   "metadata": {},
   "outputs": [
    {
     "name": "stdout",
     "output_type": "stream",
     "text": [
      "Case #1: 4\n"
     ]
    }
   ],
   "source": [
    "T=int(input())\n",
    "a=0\n",
    "li = []\n",
    "l=0\n",
    "def longestPrefix(str):\n",
    "    str=sorted(str)\n",
    "    if len(str) == 0:\n",
    "        return \"\"\n",
    "    current = str[0]\n",
    "    for i in range(1,len(str)):\n",
    "        new = \"\"\n",
    "        if len(current) == 0:\n",
    "            break\n",
    "        for j in range(len(str[i])):\n",
    "            if((j<len(current)) and (current[j] == str[i][j])):\n",
    "                new+=current[j]\n",
    "            else:\n",
    "               break\n",
    "        current = new\n",
    "    return current\n",
    "for i in range(T):\n",
    "    N,K=map(int,input().split())\n",
    "    for j in range(N):\n",
    "        input_list=input()\n",
    "        li.append(input_list)\n",
    "chunk_size = K\n",
    "list_chunked = [li[i:i + chunk_size] for i in range(0, len(li), chunk_size)]\n",
    "for x in range(T):\n",
    "    print(f\"Case #\"+str(x+1)+\": \"+str(len(longestPrefix(list_chunked[x]))))\n"
   ]
  }
 ],
 "metadata": {
  "kernelspec": {
   "display_name": "Python 3.8.5 64-bit",
   "language": "python",
   "name": "python3"
  },
  "language_info": {
   "codemirror_mode": {
    "name": "ipython",
    "version": 3
   },
   "file_extension": ".py",
   "mimetype": "text/x-python",
   "name": "python",
   "nbconvert_exporter": "python",
   "pygments_lexer": "ipython3",
   "version": "3.8.5"
  },
  "orig_nbformat": 4,
  "vscode": {
   "interpreter": {
    "hash": "570feb405e2e27c949193ac68f46852414290d515b0ba6e5d90d076ed2284471"
   }
  }
 },
 "nbformat": 4,
 "nbformat_minor": 2
}
