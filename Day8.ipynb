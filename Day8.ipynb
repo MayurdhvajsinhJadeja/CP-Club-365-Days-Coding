{
 "cells": [
  {
   "cell_type": "markdown",
   "metadata": {},
   "source": [
    "## Print the following pattern:\n"
   ]
  },
  {
   "cell_type": "code",
   "execution_count": 52,
   "metadata": {},
   "outputs": [
    {
     "name": "stdout",
     "output_type": "stream",
     "text": [
      "7 6 5 4 3 2 1 \n",
      "$ $ $ $ $ $ \n",
      "* * * * * \n",
      "7 6 5 4 \n",
      "$ $ $ \n",
      "* * \n",
      "7 \n"
     ]
    }
   ],
   "source": [
    "n=int(input(\"Enter Value: \"))\n",
    "for i in range(1, n+1):\n",
    "    for j in range(n, i-1,-1):\n",
    "        if(i%3==1):\n",
    "            print(j,end=\" \")\n",
    "        elif(i%3==0):\n",
    "            print(\"*\",end=\" \")\n",
    "        else:\n",
    "            print(\"$\",end=\" \")\n",
    "    print(\"\")"
   ]
  }
 ],
 "metadata": {
  "kernelspec": {
   "display_name": "Python 3.8.5 64-bit",
   "language": "python",
   "name": "python3"
  },
  "language_info": {
   "codemirror_mode": {
    "name": "ipython",
    "version": 3
   },
   "file_extension": ".py",
   "mimetype": "text/x-python",
   "name": "python",
   "nbconvert_exporter": "python",
   "pygments_lexer": "ipython3",
   "version": "3.8.5"
  },
  "orig_nbformat": 4,
  "vscode": {
   "interpreter": {
    "hash": "570feb405e2e27c949193ac68f46852414290d515b0ba6e5d90d076ed2284471"
   }
  }
 },
 "nbformat": 4,
 "nbformat_minor": 2
}
