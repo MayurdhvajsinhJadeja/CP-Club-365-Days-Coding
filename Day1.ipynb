{
  "nbformat": 4,
  "nbformat_minor": 0,
  "metadata": {
    "colab": {
      "provenance": []
    },
    "kernelspec": {
      "name": "python3",
      "display_name": "Python 3"
    },
    "language_info": {
      "name": "python"
    }
  },
  "cells": [
    {
      "cell_type": "markdown",
      "source": [
        "## Day 1\n",
        "Given a sorted array of distinct integers and a target value, return the index if the target is found. If not, return the index where it would be if it were inserted in order.\n",
        "Input = Number [1,3,5,6]  target = 2\n",
        "\n",
        "Output = 1\n",
        "\n",
        "Input = Number [1,3,5,6]  target = 5\n",
        "\n",
        "Output = 2 \n",
        "\n",
        "Input = Number [1,3,5,6]  target = 7\n",
        "\n",
        "Output = 4 "
      ],
      "metadata": {
        "id": "IYJprDJ4dQZT"
      }
    },
    {
      "cell_type": "code",
      "execution_count": null,
      "metadata": {
        "colab": {
          "base_uri": "https://localhost:8080/"
        },
        "id": "Vz0z-I6udJXy",
        "outputId": "9bfd5ff2-b914-4629-d0a1-d4eb352a0cbb"
      },
      "outputs": [
        {
          "output_type": "stream",
          "name": "stdout",
          "text": [
            "Enter Array (Keep Space Between 2 Numbers): 1 3 5 6\n",
            "Enter Target: 4\n",
            "Your Target is/wll-be at Index:  2\n"
          ]
        }
      ],
      "source": [
        "def search_index(arr,target):\n",
        "  for i in range(len(arr)):\n",
        "    if(arr[i]==target):\n",
        "      return i\n",
        "    elif(arr[i]>target):\n",
        "      return i\n",
        "  return len(arr)\n",
        "\n",
        "arr = [int(i) for i in input(\"Enter Array (Keep Space Between 2 Numbers): \").split()]\n",
        "target = int(input(\"Enter Target: \"))\n",
        "print(\"Your Target is/wll-be at Index: \",search_index(arr,target))"
      ]
    }
  ]
}