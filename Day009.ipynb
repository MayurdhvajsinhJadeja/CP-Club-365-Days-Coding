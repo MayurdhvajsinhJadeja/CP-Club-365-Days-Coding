{
 "cells": [
  {
   "cell_type": "markdown",
   "metadata": {},
   "source": [
    "Input:\n",
    "\n",
    "N = 7, K = 23\n",
    "\n",
    "A = [10,2,3,4,5,7,8]\n",
    "\n",
    "Output: [[2, 3, 8, 10], [2, 4, 7, 10], [3, 5, 7, 8]]\n",
    "\n",
    "Explanation: \n",
    "\n",
    "Sum of 2, 3, 8, 10 = 23,\n",
    "\n",
    "Sum of 2, 4, 7, 10 = 23 and \n",
    "\n",
    "Sum of 3, 5, 7, 8 = 23.\n"
   ]
  },
  {
   "cell_type": "code",
   "execution_count": 33,
   "metadata": {},
   "outputs": [
    {
     "name": "stdout",
     "output_type": "stream",
     "text": [
      "[[2, 3, 8, 10], [2, 4, 7, 10], [3, 5, 7, 8]]\n"
     ]
    }
   ],
   "source": [
    "def fourSum(arr,K):\n",
    "    ans = []\n",
    "    n = len(arr)\n",
    "    arr.sort()\n",
    "    def ifSame(arr2):\n",
    "        arr2.sort()\n",
    "        for i in ans:\n",
    "            i.sort()\n",
    "            if i == arr2:\n",
    "                return False\n",
    "        return True\n",
    "    for i in range(0,n-3):\n",
    "        for j in range(i+1,n-2):\n",
    "            for k in range(j+1,n-1):\n",
    "                for l in range(k+1,n):\n",
    "                    if(arr[i]+arr[j]+arr[k]+arr[l]==K and ifSame([arr[i],arr[j],arr[k],arr[l]])):\n",
    "                        ans.append([arr[i], arr[j], arr[k], arr[l]])\n",
    "    return ans\n",
    "\n",
    "arr = [10,2,3,4,5,7,8]\n",
    "K = 23\n",
    "print(fourSum(arr,K))"
   ]
  }
 ],
 "metadata": {
  "kernelspec": {
   "display_name": "Python 3.8.5 64-bit",
   "language": "python",
   "name": "python3"
  },
  "language_info": {
   "codemirror_mode": {
    "name": "ipython",
    "version": 3
   },
   "file_extension": ".py",
   "mimetype": "text/x-python",
   "name": "python",
   "nbconvert_exporter": "python",
   "pygments_lexer": "ipython3",
   "version": "3.8.5"
  },
  "orig_nbformat": 4,
  "vscode": {
   "interpreter": {
    "hash": "570feb405e2e27c949193ac68f46852414290d515b0ba6e5d90d076ed2284471"
   }
  }
 },
 "nbformat": 4,
 "nbformat_minor": 2
}
