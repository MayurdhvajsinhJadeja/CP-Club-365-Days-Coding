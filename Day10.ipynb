{
 "cells": [
  {
   "cell_type": "markdown",
   "metadata": {},
   "source": [
    "Input:\n",
    "\n",
    "str = “Hello world, welcome to CP Club”\n",
    "\n",
    "Output: \n",
    "\n",
    "h = 1, e = 3, l = 5, o = 4, w = 2, r = 1, d = 1, c = 3, m = 1, t = 1, p = 1, u = 1, b = 1\n"
   ]
  },
  {
   "cell_type": "code",
   "execution_count": 28,
   "metadata": {},
   "outputs": [
    {
     "name": "stdout",
     "output_type": "stream",
     "text": [
      "{'h': 1, 'e': 3, 'l': 5, 'o': 4, 'w': 2, 'r': 1, 'd': 1, 'c': 3, 'm': 1, 't': 1, 'p': 1, 'u': 1, 'b': 1}\n"
     ]
    }
   ],
   "source": [
    "input_string = \"Hello world, welcome to CP Club\"\n",
    "def countFrequency(s):\n",
    "    res = s.lower()\n",
    "    dict = {}\n",
    "    for i in res:\n",
    "        if i.isalpha():\n",
    "            keys = dict.keys()\n",
    "            if i in keys:\n",
    "                dict[i] += 1\n",
    "            else:\n",
    "                dict[i] = 1\n",
    "    return dict\n",
    "print(countFrequency(input_string))"
   ]
  }
 ],
 "metadata": {
  "kernelspec": {
   "display_name": "Python 3.8.5 64-bit",
   "language": "python",
   "name": "python3"
  },
  "language_info": {
   "codemirror_mode": {
    "name": "ipython",
    "version": 3
   },
   "file_extension": ".py",
   "mimetype": "text/x-python",
   "name": "python",
   "nbconvert_exporter": "python",
   "pygments_lexer": "ipython3",
   "version": "3.8.5"
  },
  "orig_nbformat": 4,
  "vscode": {
   "interpreter": {
    "hash": "570feb405e2e27c949193ac68f46852414290d515b0ba6e5d90d076ed2284471"
   }
  }
 },
 "nbformat": 4,
 "nbformat_minor": 2
}
