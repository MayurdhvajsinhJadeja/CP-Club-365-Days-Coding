{
 "cells": [
  {
   "cell_type": "markdown",
   "metadata": {},
   "source": [
    "## Print the following pattern:\n",
    "1\n",
    "\n",
    "3 * 2\n",
    "\n",
    "6 * 5 * 4\n",
    "\n",
    "10 * 9 * 8 * 7"
   ]
  },
  {
   "cell_type": "code",
   "execution_count": 222,
   "metadata": {},
   "outputs": [
    {
     "name": "stdout",
     "output_type": "stream",
     "text": [
      "1\n",
      "3*2\n",
      "6*5*4\n",
      "10*9*8*7\n",
      "15*14*13*12*11\n"
     ]
    }
   ],
   "source": [
    "num=1\n",
    "n=int(input(\"Enter N numbers of rows: - \")) \n",
    "for i in range(1,n+1): \n",
    "    num=int((i*(i+1))/2) \n",
    "    for j in range(1,i):\n",
    "        print(num,end=\"*\")\n",
    "        num-=1\n",
    "    print(num,end=\"\\n\")\n"
   ]
  }
 ],
 "metadata": {
  "kernelspec": {
   "display_name": "Python 3.8.5 64-bit",
   "language": "python",
   "name": "python3"
  },
  "language_info": {
   "codemirror_mode": {
    "name": "ipython",
    "version": 3
   },
   "file_extension": ".py",
   "mimetype": "text/x-python",
   "name": "python",
   "nbconvert_exporter": "python",
   "pygments_lexer": "ipython3",
   "version": "3.8.5"
  },
  "orig_nbformat": 4,
  "vscode": {
   "interpreter": {
    "hash": "570feb405e2e27c949193ac68f46852414290d515b0ba6e5d90d076ed2284471"
   }
  }
 },
 "nbformat": 4,
 "nbformat_minor": 2
}
